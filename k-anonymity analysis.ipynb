{
 "metadata": {
  "language_info": {
   "codemirror_mode": {
    "name": "ipython",
    "version": 3
   },
   "file_extension": ".py",
   "mimetype": "text/x-python",
   "name": "python",
   "nbconvert_exporter": "python",
   "pygments_lexer": "ipython3",
   "version": "3.8.5"
  },
  "orig_nbformat": 2,
  "kernelspec": {
   "name": "python385jvsc74a57bd0d504e65763db0712997c5abf4e36f31acc377fe14fcbb9335ac404214f57dc0f",
   "display_name": "Python 3.8.5 64-bit ('base': conda)"
  }
 },
 "nbformat": 4,
 "nbformat_minor": 2,
 "cells": [
  {
   "cell_type": "code",
   "execution_count": 36,
   "metadata": {},
   "outputs": [],
   "source": [
    "import pandas as pd\n",
    "import numpy as np"
   ]
  },
  {
   "source": [
    "# a) Generate a Dataset\n",
    "\n",
    "Randomly generate a dataset (dataframe) with eight columns and 50,000 rows. Each column should be a categorical variable (of arbitrary name) with three levels (of arbitrary names) in approximately equal proportions.\n",
    "\n",
    "## i. Random Generation"
   ],
   "cell_type": "markdown",
   "metadata": {}
  },
  {
   "cell_type": "code",
   "execution_count": 37,
   "metadata": {},
   "outputs": [
    {
     "output_type": "execute_result",
     "data": {
      "text/plain": [
       "array([[1, 1, 0, ..., 0, 1, 1],\n",
       "       [2, 0, 2, ..., 0, 0, 0],\n",
       "       [2, 0, 0, ..., 0, 1, 1],\n",
       "       ...,\n",
       "       [1, 1, 1, ..., 1, 2, 2],\n",
       "       [0, 2, 0, ..., 1, 1, 1],\n",
       "       [1, 0, 1, ..., 2, 1, 2]])"
      ]
     },
     "metadata": {},
     "execution_count": 37
    }
   ],
   "source": [
    "examples=50000\n",
    "features=8\n",
    "num_categories=3\n",
    "\n",
    "#Encode each of the three categories as integers\n",
    "#Generate random floats from 0-1. Multiply by num_categories to get random numbers over the right range, then round down to get integers.\n",
    "rand_arr = np.floor(np.random.rand(examples,features)*num_categories).astype(int)\n",
    "rand_arr"
   ]
  },
  {
   "source": [
    "## ii. Convert to a Pandas Dataframe"
   ],
   "cell_type": "markdown",
   "metadata": {}
  },
  {
   "cell_type": "code",
   "execution_count": 38,
   "metadata": {},
   "outputs": [
    {
     "output_type": "execute_result",
     "data": {
      "text/plain": [
       "       Column 0  Column 1  Column 2  Column 3  Column 4  Column 5  Column 6  \\\n",
       "0             1         1         0         2         0         0         1   \n",
       "1             2         0         2         2         2         0         0   \n",
       "2             2         0         0         0         0         0         1   \n",
       "3             2         1         1         0         2         1         0   \n",
       "4             2         2         1         2         0         1         0   \n",
       "...         ...       ...       ...       ...       ...       ...       ...   \n",
       "49995         2         2         0         2         2         1         1   \n",
       "49996         0         2         2         2         2         0         0   \n",
       "49997         1         1         1         2         1         1         2   \n",
       "49998         0         2         0         2         0         1         1   \n",
       "49999         1         0         1         0         1         2         1   \n",
       "\n",
       "       Column 7  \n",
       "0             1  \n",
       "1             0  \n",
       "2             1  \n",
       "3             2  \n",
       "4             0  \n",
       "...         ...  \n",
       "49995         0  \n",
       "49996         0  \n",
       "49997         2  \n",
       "49998         1  \n",
       "49999         2  \n",
       "\n",
       "[50000 rows x 8 columns]"
      ],
      "text/html": "<div>\n<style scoped>\n    .dataframe tbody tr th:only-of-type {\n        vertical-align: middle;\n    }\n\n    .dataframe tbody tr th {\n        vertical-align: top;\n    }\n\n    .dataframe thead th {\n        text-align: right;\n    }\n</style>\n<table border=\"1\" class=\"dataframe\">\n  <thead>\n    <tr style=\"text-align: right;\">\n      <th></th>\n      <th>Column 0</th>\n      <th>Column 1</th>\n      <th>Column 2</th>\n      <th>Column 3</th>\n      <th>Column 4</th>\n      <th>Column 5</th>\n      <th>Column 6</th>\n      <th>Column 7</th>\n    </tr>\n  </thead>\n  <tbody>\n    <tr>\n      <th>0</th>\n      <td>1</td>\n      <td>1</td>\n      <td>0</td>\n      <td>2</td>\n      <td>0</td>\n      <td>0</td>\n      <td>1</td>\n      <td>1</td>\n    </tr>\n    <tr>\n      <th>1</th>\n      <td>2</td>\n      <td>0</td>\n      <td>2</td>\n      <td>2</td>\n      <td>2</td>\n      <td>0</td>\n      <td>0</td>\n      <td>0</td>\n    </tr>\n    <tr>\n      <th>2</th>\n      <td>2</td>\n      <td>0</td>\n      <td>0</td>\n      <td>0</td>\n      <td>0</td>\n      <td>0</td>\n      <td>1</td>\n      <td>1</td>\n    </tr>\n    <tr>\n      <th>3</th>\n      <td>2</td>\n      <td>1</td>\n      <td>1</td>\n      <td>0</td>\n      <td>2</td>\n      <td>1</td>\n      <td>0</td>\n      <td>2</td>\n    </tr>\n    <tr>\n      <th>4</th>\n      <td>2</td>\n      <td>2</td>\n      <td>1</td>\n      <td>2</td>\n      <td>0</td>\n      <td>1</td>\n      <td>0</td>\n      <td>0</td>\n    </tr>\n    <tr>\n      <th>...</th>\n      <td>...</td>\n      <td>...</td>\n      <td>...</td>\n      <td>...</td>\n      <td>...</td>\n      <td>...</td>\n      <td>...</td>\n      <td>...</td>\n    </tr>\n    <tr>\n      <th>49995</th>\n      <td>2</td>\n      <td>2</td>\n      <td>0</td>\n      <td>2</td>\n      <td>2</td>\n      <td>1</td>\n      <td>1</td>\n      <td>0</td>\n    </tr>\n    <tr>\n      <th>49996</th>\n      <td>0</td>\n      <td>2</td>\n      <td>2</td>\n      <td>2</td>\n      <td>2</td>\n      <td>0</td>\n      <td>0</td>\n      <td>0</td>\n    </tr>\n    <tr>\n      <th>49997</th>\n      <td>1</td>\n      <td>1</td>\n      <td>1</td>\n      <td>2</td>\n      <td>1</td>\n      <td>1</td>\n      <td>2</td>\n      <td>2</td>\n    </tr>\n    <tr>\n      <th>49998</th>\n      <td>0</td>\n      <td>2</td>\n      <td>0</td>\n      <td>2</td>\n      <td>0</td>\n      <td>1</td>\n      <td>1</td>\n      <td>1</td>\n    </tr>\n    <tr>\n      <th>49999</th>\n      <td>1</td>\n      <td>0</td>\n      <td>1</td>\n      <td>0</td>\n      <td>1</td>\n      <td>2</td>\n      <td>1</td>\n      <td>2</td>\n    </tr>\n  </tbody>\n</table>\n<p>50000 rows × 8 columns</p>\n</div>"
     },
     "metadata": {},
     "execution_count": 38
    }
   ],
   "source": [
    "df = pd.DataFrame(rand_arr)\n",
    "\n",
    "#Rename the columns for clarity\n",
    "col_numbers = range(0,8)\n",
    "col_names = [f\"Column {col}\" for col in col_numbers]\n",
    "#generate a dictionary of column numbers and names to pass to the dataframe rename method\n",
    "columns_rename = {number:name for (number,name) in zip(col_numbers, col_names)}\n",
    "df.rename(columns=columns_rename, inplace=True)\n",
    "\n",
    "df\n"
   ]
  },
  {
   "source": [
    "# b) Verify Distribution\n",
    "\n",
    "Veryify that the proportions of each value are similar for each of the eight columns."
   ],
   "cell_type": "markdown",
   "metadata": {}
  },
  {
   "cell_type": "code",
   "execution_count": 39,
   "metadata": {},
   "outputs": [
    {
     "output_type": "stream",
     "name": "stdout",
     "text": [
      "Count of Category Labels by Column:\n"
     ]
    },
    {
     "output_type": "execute_result",
     "data": {
      "text/plain": [
       "                Column 0  Column 1  Column 2  Column 3  Column 4  Column 5  \\\n",
       "Category Label                                                               \n",
       "0                16502.0   16611.0   16769.0   16758.0   16477.0   16691.0   \n",
       "1                16703.0   16659.0   16651.0   16538.0   16750.0   16763.0   \n",
       "2                16795.0   16730.0   16580.0   16704.0   16773.0   16546.0   \n",
       "\n",
       "                Column 6  Column 7  \n",
       "Category Label                      \n",
       "0                16795.0   16632.0  \n",
       "1                16781.0   16775.0  \n",
       "2                16424.0   16593.0  "
      ],
      "text/html": "<div>\n<style scoped>\n    .dataframe tbody tr th:only-of-type {\n        vertical-align: middle;\n    }\n\n    .dataframe tbody tr th {\n        vertical-align: top;\n    }\n\n    .dataframe thead th {\n        text-align: right;\n    }\n</style>\n<table border=\"1\" class=\"dataframe\">\n  <thead>\n    <tr style=\"text-align: right;\">\n      <th></th>\n      <th>Column 0</th>\n      <th>Column 1</th>\n      <th>Column 2</th>\n      <th>Column 3</th>\n      <th>Column 4</th>\n      <th>Column 5</th>\n      <th>Column 6</th>\n      <th>Column 7</th>\n    </tr>\n    <tr>\n      <th>Category Label</th>\n      <th></th>\n      <th></th>\n      <th></th>\n      <th></th>\n      <th></th>\n      <th></th>\n      <th></th>\n      <th></th>\n    </tr>\n  </thead>\n  <tbody>\n    <tr>\n      <th>0</th>\n      <td>16502.0</td>\n      <td>16611.0</td>\n      <td>16769.0</td>\n      <td>16758.0</td>\n      <td>16477.0</td>\n      <td>16691.0</td>\n      <td>16795.0</td>\n      <td>16632.0</td>\n    </tr>\n    <tr>\n      <th>1</th>\n      <td>16703.0</td>\n      <td>16659.0</td>\n      <td>16651.0</td>\n      <td>16538.0</td>\n      <td>16750.0</td>\n      <td>16763.0</td>\n      <td>16781.0</td>\n      <td>16775.0</td>\n    </tr>\n    <tr>\n      <th>2</th>\n      <td>16795.0</td>\n      <td>16730.0</td>\n      <td>16580.0</td>\n      <td>16704.0</td>\n      <td>16773.0</td>\n      <td>16546.0</td>\n      <td>16424.0</td>\n      <td>16593.0</td>\n    </tr>\n  </tbody>\n</table>\n</div>"
     },
     "metadata": {},
     "execution_count": 39
    }
   ],
   "source": [
    "df_counts = pd.DataFrame()\n",
    "\n",
    "#for each of the integer encoded labels, create a series with the number of instances of that label for each column and append that to a new dataframe\n",
    "for val in range(0,num_categories):\n",
    "    df_counts = df_counts.append(df[df == val].count(), ignore_index=True)\n",
    "\n",
    "df_counts.index.set_names('Category Label', inplace=True)\n",
    "print(\"Count of Category Labels by Column:\")\n",
    "df_counts"
   ]
  },
  {
   "source": [
    "The proportions of each label are are similar for each column: within expectations of what we would see from random generation."
   ],
   "cell_type": "markdown",
   "metadata": {}
  },
  {
   "source": [
    "# C) Unique Combinations\n",
    "\n",
    "How many unique rows (i.e., permutations of category levels) are possible?"
   ],
   "cell_type": "markdown",
   "metadata": {}
  },
  {
   "cell_type": "code",
   "execution_count": 41,
   "metadata": {},
   "outputs": [
    {
     "output_type": "stream",
     "name": "stdout",
     "text": [
      "There are 6561 unique permutations.\n"
     ]
    }
   ],
   "source": [
    "print(\"There are {} unique permutations.\".format(num_categories**features))"
   ]
  },
  {
   "cell_type": "code",
   "execution_count": null,
   "metadata": {},
   "outputs": [],
   "source": []
  }
 ]
}