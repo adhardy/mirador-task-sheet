{
 "metadata": {
  "language_info": {
   "codemirror_mode": {
    "name": "ipython",
    "version": 3
   },
   "file_extension": ".py",
   "mimetype": "text/x-python",
   "name": "python",
   "nbconvert_exporter": "python",
   "pygments_lexer": "ipython3",
   "version": "3.8.5"
  },
  "orig_nbformat": 2,
  "kernelspec": {
   "name": "python385jvsc74a57bd0d504e65763db0712997c5abf4e36f31acc377fe14fcbb9335ac404214f57dc0f",
   "display_name": "Python 3.8.5 64-bit ('base': conda)"
  }
 },
 "nbformat": 4,
 "nbformat_minor": 2,
 "cells": [
  {
   "cell_type": "code",
   "execution_count": 45,
   "metadata": {},
   "outputs": [],
   "source": [
    "import requests\n",
    "\n",
    "postcode_data_url = \"http://www.nomisweb.co.uk/output/census/2011/Postcode_Estimates_Table_1.csv\"\n",
    "\n",
    "with requests.Session() as s:\n",
    "    download = s.get(postcode_data_url)\n",
    "    decoded_content = download.content.decode('utf-8')\n",
    "\n",
    "csv_file = open(\"Postcode_Estimates_Table_1.csv\", \"w\")\n",
    "csv_file.write(decoded_content)\n",
    "csv_file.close()\n",
    "\n"
   ]
  },
  {
   "cell_type": "code",
   "execution_count": 51,
   "metadata": {},
   "outputs": [
    {
     "output_type": "execute_result",
     "data": {
      "text/plain": [
       "        Postcode  Total  Males  Females  Occupied_Households\n",
       "0        AL1 1AG     14      6        8                    6\n",
       "1        AL1 1AJ    124     60       64                   51\n",
       "2        AL1 1AR     32     17       15                   17\n",
       "3        AL1 1AS     34     17       17                   13\n",
       "4        AL1 1BH     52     15       37                   41\n",
       "...          ...    ...    ...      ...                  ...\n",
       "1308775  YO8 9YA     23     14        9                    8\n",
       "1308776  YO8 9YB     33     17       16                   13\n",
       "1308777  YO8 9YD      9      4        5                    4\n",
       "1308778  YO8 9YE     13      6        7                    3\n",
       "1308779  YO8 9YF     11      4        7                    8\n",
       "\n",
       "[1308780 rows x 5 columns]"
      ],
      "text/html": "<div>\n<style scoped>\n    .dataframe tbody tr th:only-of-type {\n        vertical-align: middle;\n    }\n\n    .dataframe tbody tr th {\n        vertical-align: top;\n    }\n\n    .dataframe thead th {\n        text-align: right;\n    }\n</style>\n<table border=\"1\" class=\"dataframe\">\n  <thead>\n    <tr style=\"text-align: right;\">\n      <th></th>\n      <th>Postcode</th>\n      <th>Total</th>\n      <th>Males</th>\n      <th>Females</th>\n      <th>Occupied_Households</th>\n    </tr>\n  </thead>\n  <tbody>\n    <tr>\n      <th>0</th>\n      <td>AL1 1AG</td>\n      <td>14</td>\n      <td>6</td>\n      <td>8</td>\n      <td>6</td>\n    </tr>\n    <tr>\n      <th>1</th>\n      <td>AL1 1AJ</td>\n      <td>124</td>\n      <td>60</td>\n      <td>64</td>\n      <td>51</td>\n    </tr>\n    <tr>\n      <th>2</th>\n      <td>AL1 1AR</td>\n      <td>32</td>\n      <td>17</td>\n      <td>15</td>\n      <td>17</td>\n    </tr>\n    <tr>\n      <th>3</th>\n      <td>AL1 1AS</td>\n      <td>34</td>\n      <td>17</td>\n      <td>17</td>\n      <td>13</td>\n    </tr>\n    <tr>\n      <th>4</th>\n      <td>AL1 1BH</td>\n      <td>52</td>\n      <td>15</td>\n      <td>37</td>\n      <td>41</td>\n    </tr>\n    <tr>\n      <th>...</th>\n      <td>...</td>\n      <td>...</td>\n      <td>...</td>\n      <td>...</td>\n      <td>...</td>\n    </tr>\n    <tr>\n      <th>1308775</th>\n      <td>YO8 9YA</td>\n      <td>23</td>\n      <td>14</td>\n      <td>9</td>\n      <td>8</td>\n    </tr>\n    <tr>\n      <th>1308776</th>\n      <td>YO8 9YB</td>\n      <td>33</td>\n      <td>17</td>\n      <td>16</td>\n      <td>13</td>\n    </tr>\n    <tr>\n      <th>1308777</th>\n      <td>YO8 9YD</td>\n      <td>9</td>\n      <td>4</td>\n      <td>5</td>\n      <td>4</td>\n    </tr>\n    <tr>\n      <th>1308778</th>\n      <td>YO8 9YE</td>\n      <td>13</td>\n      <td>6</td>\n      <td>7</td>\n      <td>3</td>\n    </tr>\n    <tr>\n      <th>1308779</th>\n      <td>YO8 9YF</td>\n      <td>11</td>\n      <td>4</td>\n      <td>7</td>\n      <td>8</td>\n    </tr>\n  </tbody>\n</table>\n<p>1308780 rows × 5 columns</p>\n</div>"
     },
     "metadata": {},
     "execution_count": 51
    }
   ],
   "source": [
    "import pandas as pd\n",
    "\n",
    "df_postcodes = pd.read_csv(\"Postcode_Estimates_Table_1.csv\")\n",
    "df_postcodes"
   ]
  },
  {
   "source": [
    "# Data Cleaning\n",
    "\n",
    "## Postcode Format\n",
    "\n",
    "UK postcodes can be in inconsistent formats so we should first do some work to check out how they are formatted.\n",
    "\n",
    "First we want to explore the format of the postcode strings. A good first check is to see if they are all the same length:"
   ],
   "cell_type": "markdown",
   "metadata": {}
  },
  {
   "cell_type": "code",
   "execution_count": 52,
   "metadata": {},
   "outputs": [
    {
     "output_type": "execute_result",
     "data": {
      "text/plain": [
       "7    1308780\n",
       "Name: Postcode, dtype: int64"
      ]
     },
     "metadata": {},
     "execution_count": 52
    }
   ],
   "source": [
    "#check the lengths of the postcode strings\n",
    "df_postcodes[\"Postcode\"].apply(len).value_counts()\n"
   ]
  },
  {
   "source": [
    "They are all of length 7, that is a good start."
   ],
   "cell_type": "markdown",
   "metadata": {}
  },
  {
   "source": [
    "We'll use regex with capture groups to grab the different parts of the postcode. Postcodes can be in one of 6 formats:\n",
    "\n",
    "| ![UK Postcode Formats](images/uk_postcode_format.png) |\n",
    "|:--:|\n",
    "| Obtained from https://ideal-postcodes.co.uk/guides/uk-postcode-format |\n",
    "\n",
    "Inspecting the postcodes in the data set they are formated as:\n",
    " - Fixed length of 7 characters.\n",
    " - Outcodes left aligned.\n",
    " - Incodes right aligned.\n",
    " - Spaces in between the outcodes and incodes where they are not 7 characters long.\n",
    "\n",
    "We will use regex with captu groups to extract some of the postcode parts:\n",
    "- Sector\n",
    "- Sub District (which we will treat the same as disctrict for those without a sub-district)\n",
    "- District\n",
    "- Area\n",
    "\n",
    "These represent increasingly larger geographical areas (with the smallest being the full postcode)."
   ],
   "cell_type": "markdown",
   "metadata": {}
  },
  {
   "cell_type": "code",
   "execution_count": 73,
   "metadata": {},
   "outputs": [
    {
     "output_type": "execute_result",
     "data": {
      "text/plain": [
       "        Postcode  Total  Males  Females  Occupied_Households Sector  \\\n",
       "0        AL1 1AG     14      6        8                    6  AL1 1   \n",
       "1        AL1 1AJ    124     60       64                   51  AL1 1   \n",
       "2        AL1 1AR     32     17       15                   17  AL1 1   \n",
       "3        AL1 1AS     34     17       17                   13  AL1 1   \n",
       "4        AL1 1BH     52     15       37                   41  AL1 1   \n",
       "...          ...    ...    ...      ...                  ...    ...   \n",
       "1308775  YO8 9YA     23     14        9                    8  YO8 9   \n",
       "1308776  YO8 9YB     33     17       16                   13  YO8 9   \n",
       "1308777  YO8 9YD      9      4        5                    4  YO8 9   \n",
       "1308778  YO8 9YE     13      6        7                    3  YO8 9   \n",
       "1308779  YO8 9YF     11      4        7                    8  YO8 9   \n",
       "\n",
       "        Sub-District District Area  \n",
       "0                AL1      AL1   AL  \n",
       "1                AL1      AL1   AL  \n",
       "2                AL1      AL1   AL  \n",
       "3                AL1      AL1   AL  \n",
       "4                AL1      AL1   AL  \n",
       "...              ...      ...  ...  \n",
       "1308775          YO8      YO8   YO  \n",
       "1308776          YO8      YO8   YO  \n",
       "1308777          YO8      YO8   YO  \n",
       "1308778          YO8      YO8   YO  \n",
       "1308779          YO8      YO8   YO  \n",
       "\n",
       "[1308780 rows x 9 columns]"
      ],
      "text/html": "<div>\n<style scoped>\n    .dataframe tbody tr th:only-of-type {\n        vertical-align: middle;\n    }\n\n    .dataframe tbody tr th {\n        vertical-align: top;\n    }\n\n    .dataframe thead th {\n        text-align: right;\n    }\n</style>\n<table border=\"1\" class=\"dataframe\">\n  <thead>\n    <tr style=\"text-align: right;\">\n      <th></th>\n      <th>Postcode</th>\n      <th>Total</th>\n      <th>Males</th>\n      <th>Females</th>\n      <th>Occupied_Households</th>\n      <th>Sector</th>\n      <th>Sub-District</th>\n      <th>District</th>\n      <th>Area</th>\n    </tr>\n  </thead>\n  <tbody>\n    <tr>\n      <th>0</th>\n      <td>AL1 1AG</td>\n      <td>14</td>\n      <td>6</td>\n      <td>8</td>\n      <td>6</td>\n      <td>AL1 1</td>\n      <td>AL1</td>\n      <td>AL1</td>\n      <td>AL</td>\n    </tr>\n    <tr>\n      <th>1</th>\n      <td>AL1 1AJ</td>\n      <td>124</td>\n      <td>60</td>\n      <td>64</td>\n      <td>51</td>\n      <td>AL1 1</td>\n      <td>AL1</td>\n      <td>AL1</td>\n      <td>AL</td>\n    </tr>\n    <tr>\n      <th>2</th>\n      <td>AL1 1AR</td>\n      <td>32</td>\n      <td>17</td>\n      <td>15</td>\n      <td>17</td>\n      <td>AL1 1</td>\n      <td>AL1</td>\n      <td>AL1</td>\n      <td>AL</td>\n    </tr>\n    <tr>\n      <th>3</th>\n      <td>AL1 1AS</td>\n      <td>34</td>\n      <td>17</td>\n      <td>17</td>\n      <td>13</td>\n      <td>AL1 1</td>\n      <td>AL1</td>\n      <td>AL1</td>\n      <td>AL</td>\n    </tr>\n    <tr>\n      <th>4</th>\n      <td>AL1 1BH</td>\n      <td>52</td>\n      <td>15</td>\n      <td>37</td>\n      <td>41</td>\n      <td>AL1 1</td>\n      <td>AL1</td>\n      <td>AL1</td>\n      <td>AL</td>\n    </tr>\n    <tr>\n      <th>...</th>\n      <td>...</td>\n      <td>...</td>\n      <td>...</td>\n      <td>...</td>\n      <td>...</td>\n      <td>...</td>\n      <td>...</td>\n      <td>...</td>\n      <td>...</td>\n    </tr>\n    <tr>\n      <th>1308775</th>\n      <td>YO8 9YA</td>\n      <td>23</td>\n      <td>14</td>\n      <td>9</td>\n      <td>8</td>\n      <td>YO8 9</td>\n      <td>YO8</td>\n      <td>YO8</td>\n      <td>YO</td>\n    </tr>\n    <tr>\n      <th>1308776</th>\n      <td>YO8 9YB</td>\n      <td>33</td>\n      <td>17</td>\n      <td>16</td>\n      <td>13</td>\n      <td>YO8 9</td>\n      <td>YO8</td>\n      <td>YO8</td>\n      <td>YO</td>\n    </tr>\n    <tr>\n      <th>1308777</th>\n      <td>YO8 9YD</td>\n      <td>9</td>\n      <td>4</td>\n      <td>5</td>\n      <td>4</td>\n      <td>YO8 9</td>\n      <td>YO8</td>\n      <td>YO8</td>\n      <td>YO</td>\n    </tr>\n    <tr>\n      <th>1308778</th>\n      <td>YO8 9YE</td>\n      <td>13</td>\n      <td>6</td>\n      <td>7</td>\n      <td>3</td>\n      <td>YO8 9</td>\n      <td>YO8</td>\n      <td>YO8</td>\n      <td>YO</td>\n    </tr>\n    <tr>\n      <th>1308779</th>\n      <td>YO8 9YF</td>\n      <td>11</td>\n      <td>4</td>\n      <td>7</td>\n      <td>8</td>\n      <td>YO8 9</td>\n      <td>YO8</td>\n      <td>YO8</td>\n      <td>YO</td>\n    </tr>\n  </tbody>\n</table>\n<p>1308780 rows × 9 columns</p>\n</div>"
     },
     "metadata": {},
     "execution_count": 73
    }
   ],
   "source": [
    "#regex to extract Sector (1), Sub-District (2), District (3) and Area (4)\n",
    "regex_str = r\"^(((([A-Z]{1,2})[0-9]{1,2})[A-Z]?)\\s*[0-9])[A-Z]{2}$\"\n",
    "postcode_parts = [\"Sector\", \"Sub-District\", \"District\", \"Area\"]\n",
    "df_postcodes[postcode_parts] = df_postcodes[\"Postcode\"].str.extract(regex_str)\n",
    "df_postcodes"
   ]
  },
  {
   "source": [
    "We should check that we have an expected range of lengths for each part, and that we have no nulls:"
   ],
   "cell_type": "markdown",
   "metadata": {}
  },
  {
   "cell_type": "code",
   "execution_count": 75,
   "metadata": {},
   "outputs": [
    {
     "output_type": "stream",
     "name": "stdout",
     "text": [
      "Sector\n",
      "Nulls: 0\n",
      "5    1308780\n",
      "Name: Sector, dtype: int64\n",
      "\n",
      "Sub-District\n",
      "Nulls: 0\n",
      "3    644619\n",
      "4    631294\n",
      "2     32867\n",
      "Name: Sub-District, dtype: int64\n",
      "\n",
      "District\n",
      "Nulls: 0\n",
      "3    644978\n",
      "4    627471\n",
      "2     36331\n",
      "Name: District, dtype: int64\n",
      "\n",
      "Area\n",
      "Nulls: 0\n",
      "2    1162930\n",
      "1     145850\n",
      "Name: Area, dtype: int64\n",
      "\n"
     ]
    }
   ],
   "source": [
    "for col in postcode_parts:\n",
    "    print(col)\n",
    "    print(\"Nulls: \" + str(df_postcodes[col].isnull().sum()))\n",
    "    print(df_postcodes[col].apply(len).value_counts())\n",
    "    print()"
   ]
  },
  {
   "source": [
    "This all looks as expected."
   ],
   "cell_type": "markdown",
   "metadata": {}
  }
 ]
}