{
 "metadata": {
  "language_info": {
   "codemirror_mode": {
    "name": "ipython",
    "version": 3
   },
   "file_extension": ".py",
   "mimetype": "text/x-python",
   "name": "python",
   "nbconvert_exporter": "python",
   "pygments_lexer": "ipython3",
   "version": "3.8.5"
  },
  "orig_nbformat": 2,
  "kernelspec": {
   "name": "python385jvsc74a57bd0d504e65763db0712997c5abf4e36f31acc377fe14fcbb9335ac404214f57dc0f",
   "display_name": "Python 3.8.5 64-bit ('base': conda)"
  }
 },
 "nbformat": 4,
 "nbformat_minor": 2,
 "cells": [
  {
   "cell_type": "code",
   "execution_count": 7,
   "metadata": {},
   "outputs": [],
   "source": [
    "import requests\n"
   ]
  },
  {
   "cell_type": "code",
   "execution_count": 8,
   "metadata": {},
   "outputs": [],
   "source": [
    "postcode_data_url = \"http://www.nomisweb.co.uk/output/census/2011/Postcode_Estimates_Table_1.csv\"\n",
    "\n",
    "with requests.Session() as s:\n",
    "    download = s.get(postcode_data_url)\n",
    "    decoded_content = download.content.decode('utf-8')\n"
   ]
  }
 ]
}